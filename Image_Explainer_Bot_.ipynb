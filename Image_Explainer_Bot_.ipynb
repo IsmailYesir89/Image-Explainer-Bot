{
  "nbformat": 4,
  "nbformat_minor": 0,
  "metadata": {
    "colab": {
      "provenance": [],
      "gpuType": "T4",
      "authorship_tag": "ABX9TyNsnKH48vW4SX/dqfPUNqwO"
    },
    "kernelspec": {
      "name": "python3",
      "display_name": "Python 3"
    },
    "language_info": {
      "name": "python"
    },
    "accelerator": "GPU"
  },
  "cells": [
    {
      "cell_type": "code",
      "source": [
        "# Install necessary libraries\n",
        "!pip install -q transformers diffusers torch torchvision pillow\n",
        "!pip install -q gradio\n",
        "\n",
        "# Import libraries\n",
        "import torch\n",
        "from PIL import Image\n",
        "import requests\n",
        "import gradio as gr\n",
        "from transformers import BlipProcessor, BlipForConditionalGeneration\n",
        "import io\n",
        "\n",
        "# Load BLIP model\n",
        "device = 'cuda' if torch.cuda.is_available() else 'cpu'\n",
        "processor = BlipProcessor.from_pretrained(\"Salesforce/blip-image-captioning-base\")\n",
        "model = BlipForConditionalGeneration.from_pretrained(\"Salesforce/blip-image-captioning-base\").to(device)\n",
        "\n",
        "# Function to load image safely\n",
        "def safe_load_image(image_input):\n",
        "    if isinstance(image_input, str):\n",
        "        # It's a URL\n",
        "        response = requests.get(image_input)\n",
        "        image = Image.open(io.BytesIO(response.content)).convert('RGB')\n",
        "    else:\n",
        "        # It's already a PIL Image\n",
        "        image = image_input\n",
        "    return image\n",
        "\n",
        "# Function to generate caption\n",
        "def generate_caption(image):\n",
        "    inputs = processor(images=image, return_tensors=\"pt\").to(device)\n",
        "    out = model.generate(**inputs)\n",
        "    caption = processor.decode(out[0], skip_special_tokens=True)\n",
        "    return caption\n",
        "\n",
        "# Gradio app function\n",
        "def explain_image(image_input):\n",
        "    try:\n",
        "        image = safe_load_image(image_input)\n",
        "        caption = generate_caption(image)\n",
        "        return caption\n",
        "    except Exception as e:\n",
        "        return f\"Error processing image: {str(e)}\"\n",
        "\n",
        "# Launch the Gradio app\n",
        "with gr.Blocks() as demo:\n",
        "    gr.Markdown(\"# 📸 Image Explainer Bot\\nUpload an image or paste an image URL!\")\n",
        "\n",
        "    with gr.Row():\n",
        "        image_input = gr.Image(type=\"pil\", label=\"Upload Image or Enter URL (below)\")\n",
        "        url_input = gr.Textbox(label=\"Or paste Image URL here (optional)\")\n",
        "\n",
        "    caption_output = gr.Textbox(label=\"AI Generated Caption\")\n",
        "\n",
        "    def process_inputs(image_uploaded, url_entered):\n",
        "        if url_entered.strip() != \"\":\n",
        "            return explain_image(url_entered)\n",
        "        elif image_uploaded is not None:\n",
        "            return explain_image(image_uploaded)\n",
        "        else:\n",
        "            return \"Please upload an image or paste a URL.\"\n",
        "\n",
        "    generate_button = gr.Button(\"Generate Caption\")\n",
        "\n",
        "    generate_button.click(fn=process_inputs, inputs=[image_input, url_input], outputs=[caption_output])\n",
        "\n",
        "demo.launch()\n"
      ],
      "metadata": {
        "colab": {
          "base_uri": "https://localhost:8080/",
          "height": 745
        },
        "id": "qw1Qwmb1onmD",
        "outputId": "010e0095-7833-43f8-afc9-793dc861dfb8"
      },
      "execution_count": 4,
      "outputs": [
        {
          "output_type": "stream",
          "name": "stdout",
          "text": [
            "\u001b[2K   \u001b[90m━━━━━━━━━━━━━━━━━━━━━━━━━━━━━━━━━━━━━━━━\u001b[0m \u001b[32m54.0/54.0 MB\u001b[0m \u001b[31m13.3 MB/s\u001b[0m eta \u001b[36m0:00:00\u001b[0m\n",
            "\u001b[2K   \u001b[90m━━━━━━━━━━━━━━━━━━━━━━━━━━━━━━━━━━━━━━━━\u001b[0m \u001b[32m322.6/322.6 kB\u001b[0m \u001b[31m24.4 MB/s\u001b[0m eta \u001b[36m0:00:00\u001b[0m\n",
            "\u001b[2K   \u001b[90m━━━━━━━━━━━━━━━━━━━━━━━━━━━━━━━━━━━━━━━━\u001b[0m \u001b[32m95.2/95.2 kB\u001b[0m \u001b[31m8.6 MB/s\u001b[0m eta \u001b[36m0:00:00\u001b[0m\n",
            "\u001b[2K   \u001b[90m━━━━━━━━━━━━━━━━━━━━━━━━━━━━━━━━━━━━━━━━\u001b[0m \u001b[32m11.5/11.5 MB\u001b[0m \u001b[31m117.7 MB/s\u001b[0m eta \u001b[36m0:00:00\u001b[0m\n",
            "\u001b[2K   \u001b[90m━━━━━━━━━━━━━━━━━━━━━━━━━━━━━━━━━━━━━━━━\u001b[0m \u001b[32m72.0/72.0 kB\u001b[0m \u001b[31m5.5 MB/s\u001b[0m eta \u001b[36m0:00:00\u001b[0m\n",
            "\u001b[2K   \u001b[90m━━━━━━━━━━━━━━━━━━━━━━━━━━━━━━━━━━━━━━━━\u001b[0m \u001b[32m62.5/62.5 kB\u001b[0m \u001b[31m5.0 MB/s\u001b[0m eta \u001b[36m0:00:00\u001b[0m\n",
            "\u001b[?25hIt looks like you are running Gradio on a hosted a Jupyter notebook. For the Gradio app to work, sharing must be enabled. Automatically setting `share=True` (you can turn this off by setting `share=False` in `launch()` explicitly).\n",
            "\n",
            "Colab notebook detected. To show errors in colab notebook, set debug=True in launch()\n",
            "* Running on public URL: https://740c9aa82cf95f81e0.gradio.live\n",
            "\n",
            "This share link expires in 1 week. For free permanent hosting and GPU upgrades, run `gradio deploy` from the terminal in the working directory to deploy to Hugging Face Spaces (https://huggingface.co/spaces)\n"
          ]
        },
        {
          "output_type": "display_data",
          "data": {
            "text/plain": [
              "<IPython.core.display.HTML object>"
            ],
            "text/html": [
              "<div><iframe src=\"https://740c9aa82cf95f81e0.gradio.live\" width=\"100%\" height=\"500\" allow=\"autoplay; camera; microphone; clipboard-read; clipboard-write;\" frameborder=\"0\" allowfullscreen></iframe></div>"
            ]
          },
          "metadata": {}
        },
        {
          "output_type": "execute_result",
          "data": {
            "text/plain": []
          },
          "metadata": {},
          "execution_count": 4
        }
      ]
    }
  ]
}